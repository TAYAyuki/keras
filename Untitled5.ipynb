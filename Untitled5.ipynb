{
  "nbformat": 4,
  "nbformat_minor": 0,
  "metadata": {
    "colab": {
      "name": "Untitled5.ipynb",
      "version": "0.3.2",
      "provenance": [],
      "include_colab_link": true
    },
    "kernelspec": {
      "name": "python3",
      "display_name": "Python 3"
    }
  },
  "cells": [
    {
      "cell_type": "markdown",
      "metadata": {
        "id": "view-in-github",
        "colab_type": "text"
      },
      "source": [
        "<a href=\"https://colab.research.google.com/github/TAYAyuki/keras/blob/master/Untitled5.ipynb\" target=\"_parent\"><img src=\"https://colab.research.google.com/assets/colab-badge.svg\" alt=\"Open In Colab\"/></a>"
      ]
    },
    {
      "cell_type": "markdown",
      "metadata": {
        "id": "eiuT7absrGlS",
        "colab_type": "text"
      },
      "source": [
        "データをダウンロード"
      ]
    },
    {
      "cell_type": "code",
      "metadata": {
        "id": "v-w81Htdna7Q",
        "colab_type": "code",
        "colab": {
          "base_uri": "https://localhost:8080/",
          "height": 85
        },
        "outputId": "88f89e9c-4fd9-4b82-8d54-ed10c324f5c3"
      },
      "source": [
        "from keras.datasets import mnist #kerasのmnist\n",
        "\n",
        "(x_train, y_train), (x_test, y_test) = mnist.load_data()#x:データ　y:正解ラベル\n",
        "print(\"x_train.shape\"+str(x_train.shape))\n",
        "print(\"y_train.shape\"+str(y_train.shape))\n",
        "print(\"x_test.shape\"+str(x_test.shape))\n",
        "print(\"y_test.shape\"+str(y_test.shape))"
      ],
      "execution_count": 3,
      "outputs": [
        {
          "output_type": "stream",
          "text": [
            "x_train.shape(60000, 28, 28)\n",
            "y_train.shape(60000,)\n",
            "x_test.shape(10000, 28, 28)\n",
            "y_test.shape(10000,)\n"
          ],
          "name": "stdout"
        }
      ]
    },
    {
      "cell_type": "markdown",
      "metadata": {
        "id": "-hQ7KoqurMDL",
        "colab_type": "text"
      },
      "source": [
        "前処理"
      ]
    },
    {
      "cell_type": "code",
      "metadata": {
        "id": "Va5iLZUZoCe9",
        "colab_type": "code",
        "colab": {}
      },
      "source": [
        "from keras.utils.np_utils import to_categorical \n",
        "#to_categorical(y, nb_classes=None)\n",
        "#0からnb_classesまでの整数をバイナリに変換\n",
        "#y:バイナリに変換するベクトル\n",
        "#戻り値:入力(y)のバイナリ行列表現"
      ],
      "execution_count": 0,
      "outputs": []
    },
    {
      "cell_type": "code",
      "metadata": {
        "id": "j9myNV5CrRSa",
        "colab_type": "code",
        "colab": {
          "base_uri": "https://localhost:8080/",
          "height": 102
        },
        "outputId": "a0926254-7745-46ac-ef72-823d3b0e8852"
      },
      "source": [
        "#画像を１次元化\n",
        "x_train = x_train.reshape(60000, 784)\n",
        "x_test = x_test.reshape(10000,784)\n",
        "print(\"x_train.shape\"+str(x_train.shape))\n",
        "print(\"x_test.shape\"+str(x_test.shape))"
      ],
      "execution_count": 7,
      "outputs": [
        {
          "output_type": "stream",
          "text": [
            "x_train.shape(60000, 784)\n",
            "x_test.shape(10000, 784)\n",
            "[[0. 0. 0. ... 0. 0. 0.]\n",
            " [0. 0. 0. ... 0. 0. 0.]\n",
            " [0. 0. 0. ... 0. 0. 0.]]\n"
          ],
          "name": "stdout"
        }
      ]
    },
    {
      "cell_type": "code",
      "metadata": {
        "id": "UQHkK4uosI2G",
        "colab_type": "code",
        "colab": {}
      },
      "source": [
        "#画素を0~1の範囲に変化(正規化\n",
        "x_train = x_train.astype('float32')/255 #255までの数字が入っている、255で割る前にfloatにキャスト\n",
        "x_test = x_test.astype('float32')/255"
      ],
      "execution_count": 0,
      "outputs": []
    },
    {
      "cell_type": "code",
      "metadata": {
        "id": "aZhGZ4LLrNzT",
        "colab_type": "code",
        "colab": {
          "base_uri": "https://localhost:8080/",
          "height": 51
        },
        "outputId": "36d2ac8e-6caf-450b-e784-be450676b7ba"
      },
      "source": [
        "#正解ラベルをone-hot-encoding\n",
        "y_train = to_categorical(y_train, 10) #y_train(0~9の数字が60000個格納されている)\n",
        "y_test = to_categorical(y_test, 10)　#それらをone-hot-vectorで表すた\n",
        "print(\"y_train.shape\"+str(y_train.shape))\n",
        "print(\"y_test.shape\"+str(y_test.shape))"
      ],
      "execution_count": 9,
      "outputs": [
        {
          "output_type": "stream",
          "text": [
            "y_train.shape(60000, 10)\n",
            "y_test.shape(10000, 10)\n"
          ],
          "name": "stdout"
        }
      ]
    },
    {
      "cell_type": "code",
      "metadata": {
        "id": "MIyRddm6nzOi",
        "colab_type": "code",
        "colab": {}
      },
      "source": [
        ""
      ],
      "execution_count": 0,
      "outputs": []
    }
  ]
}